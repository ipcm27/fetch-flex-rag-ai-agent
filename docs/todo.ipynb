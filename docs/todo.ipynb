{
 "cells": [
  {
   "cell_type": "markdown",
   "id": "ba6d751b-5056-477f-93c2-3ead2ce4c7ea",
   "metadata": {},
   "source": [
    "# Todo\n",
    "\n",
    "### tools:\n",
    "[] Install jupyter <br>\n",
    "[] Log to LangSmith\n",
    "\n",
    "<hr>\n",
    "\n",
    "### Set Up env:\n",
    "[] create .env\n",
    "[] store api keys\n",
    "\n",
    "<hr>\n",
    "\n",
    "### DB:\n",
    "[] Install chroma"
   ]
  },
  {
   "cell_type": "markdown",
   "id": "19127afb",
   "metadata": {},
   "source": []
  },
  {
   "cell_type": "markdown",
   "id": "baf8eaf5",
   "metadata": {},
   "source": []
  },
  {
   "cell_type": "code",
   "execution_count": null,
   "id": "1bc99c0a-9ffa-4661-86d6-0d42e87cb9c5",
   "metadata": {},
   "outputs": [],
   "source": []
  }
 ],
 "metadata": {
  "kernelspec": {
   "display_name": "Python 3 (ipykernel)",
   "language": "python",
   "name": "python3"
  },
  "language_info": {
   "codemirror_mode": {
    "name": "ipython",
    "version": 3
   },
   "file_extension": ".py",
   "mimetype": "text/x-python",
   "name": "python",
   "nbconvert_exporter": "python",
   "pygments_lexer": "ipython3",
   "version": "3.11.3"
  }
 },
 "nbformat": 4,
 "nbformat_minor": 5
}
